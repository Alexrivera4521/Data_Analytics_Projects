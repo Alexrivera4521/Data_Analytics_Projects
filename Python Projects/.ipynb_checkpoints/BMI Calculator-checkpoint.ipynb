{
 "cells": [
  {
   "cell_type": "markdown",
   "id": "998a184f-337a-49fd-90c3-8e9abc29eeae",
   "metadata": {},
   "source": [
    "# Body Mass Index (BMI) Calculator"
   ]
  },
  {
   "cell_type": "markdown",
   "id": "7c964ae2-04bc-4f2f-81b6-f0b43c2b8d55",
   "metadata": {},
   "source": [
    "## BMI Formula:\n",
    "    BMI = (weight in pounds x 703) / (height in inches x height in inches)"
   ]
  },
  {
   "cell_type": "markdown",
   "id": "92450fc2-b5bf-4266-91d0-edf32c70b5a5",
   "metadata": {},
   "source": [
    "| BMI           | Category         | Health Risk     |\n",
    "|---------------|------------------|-----------------|\n",
    "| Under 18.5    | Underweight       | Minimal         |\n",
    "| 18.5 - 24.9   | Normal Weight     | Minimal         |\n",
    "| 25 - 29.9     | Overweight        | Increased       |\n",
    "| 30 - 34.9     | Obese High        | High            |\n",
    "| 35 - 39.9     | Severely Obese    | Very High       |\n",
    "| 40 and over   | Morbidly Obese    | Extremely High  |"
   ]
  },
  {
   "cell_type": "code",
   "execution_count": 61,
   "id": "3d5d0758-1a88-40bb-9781-fa4430b8e04d",
   "metadata": {},
   "outputs": [
    {
     "name": "stdin",
     "output_type": "stream",
     "text": [
      "Enter your name:  Alex\n",
      "Enter your weight in lbs:  185\n",
      "Enter your height in inches:  70\n"
     ]
    },
    {
     "name": "stdout",
     "output_type": "stream",
     "text": [
      "Alex. Your bmi is: 26.54. Therefore, you are in the overweight category and your health risk is increased.\n",
      "Based on an ideal BMI of 22.5, your ideal weight should be around 170.77 lbs.\n"
     ]
    }
   ],
   "source": [
    "# This function validates that the user enters valid input for weight and height\n",
    "def get_accurate_inputs(prompt):\n",
    "    while True:\n",
    "        try:\n",
    "            value = int(input(prompt))\n",
    "            if value > 0:\n",
    "                return value\n",
    "            else:\n",
    "                print(\"Please enter a positive integer.\")\n",
    "        except ValueError:\n",
    "            print(\"Invalid input. Please enter a positive integer.\")\n",
    "\n",
    "name = input(\"Enter your name: \")\n",
    "weight = get_accurate_inputs(\"Enter your weight in lbs: \")\n",
    "height = get_accurate_inputs(\"Enter your height in inches: \")\n",
    "\n",
    "#This function calculates the BMI given weight and height. Weight should be in pounds and height in inches.\n",
    "\n",
    "def calculate_bmi(weight, height):\n",
    "    bmi = (weight * 703)/(height **2)\n",
    "    return bmi\n",
    "\n",
    "# This function calculates the ideal weight for a given height based on an ideal BMI.\n",
    "def calculate_ideal_weight(height, ideal_bmi=24.5):\n",
    "    ideal_weight = (ideal_bmi * (height ** 2)) / 703\n",
    "    return ideal_weight\n",
    "    \n",
    "bmi = calculate_bmi(weight, height)\n",
    "ideal_weight = calculate_ideal_weight(height)\n",
    "\n",
    "if bmi > 0:\n",
    "    if bmi < 18.5:\n",
    "        print(f\"{name}. Your bmi is: {bmi:.2f}. Therefore, you are in the minimal weight category and your health risk is minimal.\")\n",
    "    elif bmi <= 24.9:\n",
    "        print(f\"{name}. Your bmi is: {bmi:.2f}. Therefore, you are in the normal weight category and your health risk is minimal.\")\n",
    "    elif bmi < 29.9:\n",
    "        print(f\"{name}. Your bmi is: {bmi:.2f}. Therefore, you are in the overweight category and your health risk is increased.\")\n",
    "    elif bmi < 34.9:\n",
    "        print(f\"{name}. Your bmi is: {bmi:.2f}. Therefore, you are in the obese category and your health risk is high.\")\n",
    "    elif bmi < 39.9:\n",
    "        print(f\"{name}. Your bmi is: {bmi:.2f}. Therefore, you are in the severely obese category and your health risk is very high.\")\n",
    "    else:\n",
    "        print(f\"{name}. Your bmi is: {bmi:.2f}. Therefore, you are in the morbidly obese category and your health risk is extremely high.\")\n",
    "else:\n",
    "    print(\"For accurate results, please enter valid inputs.\")\n",
    "\n",
    "# Print out the ideal weight based on the height\n",
    "print(f\"Based on an ideal BMI of 24.5, your ideal weight should be around {ideal_weight:.2f} lbs.\")"
   ]
  },
  {
   "cell_type": "code",
   "execution_count": 66,
   "id": "c6f1992e-ccf3-4fe1-980d-f9f7625828bd",
   "metadata": {},
   "outputs": [
    {
     "name": "stdin",
     "output_type": "stream",
     "text": [
      "Enter your name:  Alex\n",
      "Enter your weight in lbs:  185\n",
      "Enter your height in inches:  70\n"
     ]
    },
    {
     "name": "stdout",
     "output_type": "stream",
     "text": [
      "Alex, your BMI is: 26.54. Therefore, you are in the Overweight and overweight category and your health risk is increased.\n",
      "Based on an ideal BMI of 24.5, your ideal weight should be around 170.77 lbs.\n"
     ]
    }
   ],
   "source": [
    "# Refactored version of the code above and some improvements\n",
    "\n",
    "# Constants for BMI Categories\n",
    "UNDERWEIGHT_THRESHOLD = 18.5\n",
    "NORMAL_WEIGHT_UPPER_THRESHOLD = 24.9\n",
    "OVERWEIGHT_UPPER_THRESHOLD = 29.9\n",
    "OBESE_UPPER_THRESHOLD = 34.9\n",
    "SEVERELY_OBESE_UPPER_THRESHOLD = 39.9\n",
    "\n",
    "# Messages for BMI Categories\n",
    "BMI_CATEGORIES = {\n",
    "    \"Underweight\": \"minimal weight category and your health risk is minimal.\",\n",
    "    \"Normal Weight\": \"normal weight category and your health risk is minimal.\",\n",
    "    \"Overweight\": \"overweight category and your health risk is increased.\",\n",
    "    \"Obese\": \"obese category and your health risk is high.\",\n",
    "    \"Severely Obese\": \"severely obese category and your health risk is very high.\",\n",
    "    \"Morbidly Obese\": \"morbidly obese category and your health risk is extremely high.\"\n",
    "}\n",
    "\n",
    "def get_accurate_inputs(prompt):\n",
    "    \"\"\"\n",
    "    Prompts the user for input and ensures it is a positive integer.\n",
    "    \n",
    "    :param prompt: A string message to display when asking for input\n",
    "    :return: A positive integer provided by the user\n",
    "    \"\"\"\n",
    "    while True:\n",
    "        try:\n",
    "            value = int(input(prompt))\n",
    "            if value > 0:\n",
    "                return value\n",
    "            else:\n",
    "                print(\"Please enter a positive integer.\")\n",
    "        except ValueError:\n",
    "            print(\"Invalid input. Please enter a positive integer.\")\n",
    "\n",
    "def calculate_bmi(weight, height):\n",
    "    \"\"\"\n",
    "    Calculates BMI based on weight and height.\n",
    "    \n",
    "    :param weight: Weight in pounds\n",
    "    :param height: Height in inches\n",
    "    :return: Calculated BMI\n",
    "    \"\"\"\n",
    "    return (weight * 703) / (height ** 2)\n",
    "\n",
    "def calculate_ideal_weight(height, ideal_bmi=24.5):\n",
    "    \"\"\"\n",
    "    Calculates the ideal weight for a given height and BMI.\n",
    "    \n",
    "    :param height: Height in inches\n",
    "    :param ideal_bmi: The ideal BMI (default is 24.5)\n",
    "    :return: The ideal weight in pounds\n",
    "    \"\"\"\n",
    "    return (ideal_bmi * (height ** 2)) / 703\n",
    "\n",
    "def classify_bmi(bmi):\n",
    "    \"\"\"\n",
    "    Classifies BMI into different categories.\n",
    "    \n",
    "    :param bmi: Calculated BMI\n",
    "    :return: A tuple containing the category name and the corresponding health message\n",
    "    \"\"\"\n",
    "    if bmi < UNDERWEIGHT_THRESHOLD:\n",
    "        return \"Underweight\", BMI_CATEGORIES[\"Underweight\"]\n",
    "    elif bmi <= NORMAL_WEIGHT_UPPER_THRESHOLD:\n",
    "        return \"Normal Weight\", BMI_CATEGORIES[\"Normal Weight\"]\n",
    "    elif bmi <= OVERWEIGHT_UPPER_THRESHOLD:\n",
    "        return \"Overweight\", BMI_CATEGORIES[\"Overweight\"]\n",
    "    elif bmi <= OBESE_UPPER_THRESHOLD:\n",
    "        return \"Obese\", BMI_CATEGORIES[\"Obese\"]\n",
    "    elif bmi <= SEVERELY_OBESE_UPPER_THRESHOLD:\n",
    "        return \"Severely Obese\", BMI_CATEGORIES[\"Severely Obese\"]\n",
    "    else:\n",
    "        return \"Morbidly Obese\", BMI_CATEGORIES[\"Morbidly Obese\"]\n",
    "\n",
    "# Main Program Logic\n",
    "name = input(\"Enter your name: \")\n",
    "weight = get_accurate_inputs(\"Enter your weight in lbs: \")\n",
    "height = get_accurate_inputs(\"Enter your height in inches: \")\n",
    "\n",
    "bmi = calculate_bmi(weight, height)\n",
    "ideal_weight = calculate_ideal_weight(height)\n",
    "category, health_message = classify_bmi(bmi)\n",
    "\n",
    "print(f\"{name}, your BMI is: {bmi:.2f}. Therefore, you are in the {category} and {health_message}\")\n",
    "print(f\"Based on an ideal BMI of 24.5, your ideal weight should be around {ideal_weight:.2f} lbs.\")"
   ]
  }
 ],
 "metadata": {
  "kernelspec": {
   "display_name": "Python 3 (ipykernel)",
   "language": "python",
   "name": "python3"
  },
  "language_info": {
   "codemirror_mode": {
    "name": "ipython",
    "version": 3
   },
   "file_extension": ".py",
   "mimetype": "text/x-python",
   "name": "python",
   "nbconvert_exporter": "python",
   "pygments_lexer": "ipython3",
   "version": "3.12.4"
  }
 },
 "nbformat": 4,
 "nbformat_minor": 5
}
