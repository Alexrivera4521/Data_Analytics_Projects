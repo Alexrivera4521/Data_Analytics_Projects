{
 "cells": [
  {
   "cell_type": "markdown",
   "id": "bd085188-1a6d-4c25-a407-140e9bd006c0",
   "metadata": {},
   "source": [
    "# Automatic File Sorter in File Explorer"
   ]
  },
  {
   "cell_type": "code",
   "execution_count": 17,
   "id": "781bb4cd-ce7c-4312-91a8-0ad0d3c6d77c",
   "metadata": {},
   "outputs": [
    {
     "name": "stdout",
     "output_type": "stream",
     "text": [
      "C:/Users/arive336/Downloads/excel files\n",
      "C:/Users/arive336/Downloads/image files\n",
      "C:/Users/arive336/Downloads/sql files\n",
      "C:/Users/arive336/Downloads/pdf files\n"
     ]
    }
   ],
   "source": [
    "import os\n",
    "import shutil\n",
    "import logging\n",
    "from datetime import datetime\n",
    "\n",
    "# Configure logging\n",
    "log_file = os.path.join(os.path.expanduser(\"~\"), \"file_organizer.log\")\n",
    "logging.basicConfig(filename=log_file, level=logging.INFO, \n",
    "                    format='%(asctime)s - %(levelname)s - %(message)s')\n",
    "\n",
    "def create_folder_if_not_exists(path, folder_name):\n",
    "    \"\"\"Create a folder if it doesn't already exist.\"\"\"\n",
    "    folder_path = os.path.join(path, folder_name)\n",
    "    try:\n",
    "        if not os.path.exists(folder_path):\n",
    "            os.makedirs(folder_path)\n",
    "            logging.info(f\"Created folder: {folder_path}\")\n",
    "    except Exception as e:\n",
    "        logging.error(f\"Error creating folder {folder_name}: {e}\")\n",
    "\n",
    "def move_file(file_path, target_path):\n",
    "    \"\"\"Move the file to the target directory, handling collisions.\"\"\"\n",
    "    try:\n",
    "        if os.path.exists(target_path):\n",
    "            base, extension = os.path.splitext(target_path)\n",
    "            counter = 1\n",
    "            while os.path.exists(target_path):\n",
    "                target_path = f\"{base}_{counter}{extension}\"\n",
    "                counter += 1\n",
    "            logging.info(f\"Filename collision resolved, renaming to: {os.path.basename(target_path)}\")\n",
    "        shutil.move(file_path, target_path)\n",
    "        logging.info(f\"Moved file: {file_path} to {target_path}\")\n",
    "    except Exception as e:\n",
    "        logging.error(f\"Error moving file {file_path} to {target_path}: {e}\")\n",
    "\n",
    "def organize_files(path, file_types):\n",
    "    \"\"\"Organize files in the specified directory according to their extensions.\"\"\"\n",
    "    try:\n",
    "        for folder, extensions in file_types.items():\n",
    "            create_folder_if_not_exists(path, folder)\n",
    "        \n",
    "        for file in os.listdir(path):\n",
    "            file_path = os.path.join(path, file)\n",
    "            if os.path.isfile(file_path):\n",
    "                file_lower = file.lower()\n",
    "                for folder, extensions in file_types.items():\n",
    "                    if any(file_lower.endswith(ext) for ext in extensions):\n",
    "                        target_path = os.path.join(path, folder, file)\n",
    "                        move_file(file_path, target_path)\n",
    "                        break\n",
    "            else:\n",
    "                logging.info(f\"Skipped non-file entry: {file_path}\")\n",
    "\n",
    "    except Exception as e:\n",
    "        logging.error(f\"Error in organizing files: {e}\")\n",
    "\n",
    "if __name__ == \"__main__\":\n",
    "    # Path to the downloads directory\n",
    "    download_path = r\"C:/Users/arive336/Downloads/\"\n",
    "\n",
    "    # List of file extensions and corresponding folder names\n",
    "    file_types_dict = {\n",
    "        'excel files': ['.xlsx', '.xls', '.csv'],\n",
    "        'image files': ['.jpeg', '.jpg', '.png', '.gif'],\n",
    "        'sql files': ['.sql'],\n",
    "        'pdf files': ['.pdf']\n",
    "    }\n",
    "\n",
    "    # Organize files in the specified directory\n",
    "    organize_files(download_path, file_types_dict)\n"
   ]
  },
  {
   "cell_type": "code",
   "execution_count": null,
   "id": "d6f380b8-5d67-4a46-87eb-cd99f28e8658",
   "metadata": {},
   "outputs": [],
   "source": []
  }
 ],
 "metadata": {
  "kernelspec": {
   "display_name": "Python 3 (ipykernel)",
   "language": "python",
   "name": "python3"
  },
  "language_info": {
   "codemirror_mode": {
    "name": "ipython",
    "version": 3
   },
   "file_extension": ".py",
   "mimetype": "text/x-python",
   "name": "python",
   "nbconvert_exporter": "python",
   "pygments_lexer": "ipython3",
   "version": "3.12.4"
  }
 },
 "nbformat": 4,
 "nbformat_minor": 5
}
